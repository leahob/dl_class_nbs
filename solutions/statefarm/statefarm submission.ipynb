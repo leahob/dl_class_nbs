{
 "cells": [
  {
   "cell_type": "markdown",
   "metadata": {},
   "source": [
    "# Enter Statefarm competition"
   ]
  },
  {
   "cell_type": "code",
   "execution_count": 1,
   "metadata": {
    "collapsed": false
   },
   "outputs": [
    {
     "name": "stderr",
     "output_type": "stream",
     "text": [
      "Using gpu device 0: Tesla K80 (CNMeM is disabled, cuDNN 5103)\n",
      "/home/ubuntu/anaconda2/lib/python2.7/site-packages/theano/sandbox/cuda/__init__.py:600: UserWarning: Your cuDNN version is more recent than the one Theano officially supports. If you see any problems, try updating Theano or downgrading cuDNN to version 5.\n",
      "  warnings.warn(warn)\n",
      "WARNING (theano.sandbox.cuda): Ignoring call to use(1), GPU number 0 is already in use.\n"
     ]
    }
   ],
   "source": [
    "from theano.sandbox import cuda\n",
    "cuda.use('gpu1')"
   ]
  },
  {
   "cell_type": "code",
   "execution_count": 30,
   "metadata": {
    "collapsed": false
   },
   "outputs": [
    {
     "name": "stdout",
     "output_type": "stream",
     "text": [
      "/home/ubuntu/nbs/solutions/statefarm\n"
     ]
    }
   ],
   "source": [
    "%cd /home/ubuntu/nbs/solutions/statefarm\n",
    "%matplotlib inline\n",
    "from __future__ import print_function, division\n",
    "import utils; reload(utils)\n",
    "from utils import *\n",
    "from IPython.display import FileLink\n",
    "import pandas as pd"
   ]
  },
  {
   "cell_type": "markdown",
   "metadata": {},
   "source": [
    "Characterize data set first"
   ]
  },
  {
   "cell_type": "code",
   "execution_count": 31,
   "metadata": {
    "collapsed": false
   },
   "outputs": [
    {
     "name": "stdout",
     "output_type": "stream",
     "text": [
      "/home/ubuntu/data/statefarm\n"
     ]
    }
   ],
   "source": [
    "%cd /home/ubuntu/data/statefarm"
   ]
  },
  {
   "cell_type": "code",
   "execution_count": 32,
   "metadata": {
    "collapsed": false
   },
   "outputs": [
    {
     "name": "stdout",
     "output_type": "stream",
     "text": [
      "  22424   22424  782853\r\n"
     ]
    }
   ],
   "source": [
    "%ls -1 train/*/*.jpg | wc"
   ]
  },
  {
   "cell_type": "code",
   "execution_count": 33,
   "metadata": {
    "collapsed": false
   },
   "outputs": [
    {
     "name": "stdout",
     "output_type": "stream",
     "text": [
      "  79726   79726 2065911\r\n"
     ]
    }
   ],
   "source": [
    "%ls -1 test/unknown | wc"
   ]
  },
  {
   "cell_type": "code",
   "execution_count": 34,
   "metadata": {
    "collapsed": false
   },
   "outputs": [],
   "source": [
    "df = pd.read_csv('driver_imgs_list.csv')"
   ]
  },
  {
   "cell_type": "code",
   "execution_count": 44,
   "metadata": {
    "collapsed": false
   },
   "outputs": [
    {
     "name": "stdout",
     "output_type": "stream",
     "text": [
      "  subject classname            img\n",
      "0    p002        c0  img_44733.jpg\n",
      "1    p002        c0  img_72999.jpg\n",
      "2    p002        c0  img_25094.jpg\n",
      "3    p002        c0  img_69092.jpg\n",
      "4    p002        c0  img_92629.jpg\n"
     ]
    }
   ],
   "source": [
    "print(df.head())"
   ]
  },
  {
   "cell_type": "code",
   "execution_count": 48,
   "metadata": {
    "collapsed": false
   },
   "outputs": [
    {
     "name": "stdout",
     "output_type": "stream",
     "text": [
      "         classname   img\n",
      "subject                 \n",
      "p002           725   725\n",
      "p012           823   823\n",
      "p014           876   876\n",
      "p015           875   875\n",
      "p016          1078  1078\n",
      "p021          1237  1237\n",
      "p022          1233  1233\n",
      "p024          1226  1226\n",
      "p026          1196  1196\n",
      "p035           848   848\n",
      "p039           651   651\n",
      "p041           605   605\n",
      "p042           591   591\n",
      "p045           724   724\n",
      "p047           835   835\n",
      "p049          1011  1011\n",
      "p050           790   790\n",
      "p051           920   920\n",
      "p052           740   740\n",
      "p056           794   794\n",
      "p061           809   809\n",
      "p064           820   820\n",
      "p066          1034  1034\n",
      "p072           346   346\n",
      "p075           814   814\n",
      "p081           823   823\n"
     ]
    }
   ],
   "source": [
    "print(df.groupby(['subject']).count())"
   ]
  },
  {
   "cell_type": "markdown",
   "metadata": {},
   "source": [
    "How to split test and validation sets based on subject/driver\n",
    "There are n = 26 drivers and approximately 22K images.\n",
    "~ 10% of the data for validation is data for 2-3 drivers\n",
    "Move data for 3 drivers picked at random p002, p049, p061"
   ]
  },
  {
   "cell_type": "code",
   "execution_count": 52,
   "metadata": {
    "collapsed": false
   },
   "outputs": [
    {
     "name": "stdout",
     "output_type": "stream",
     "text": [
      "['p072' 'p016' 'p012']\n"
     ]
    }
   ],
   "source": [
    "subjects = np.random.permutation(df.ix[:,'subject'].unique())\n",
    "print(subjects[:3])"
   ]
  },
  {
   "cell_type": "code",
   "execution_count": 65,
   "metadata": {
    "collapsed": false
   },
   "outputs": [
    {
     "name": "stdout",
     "output_type": "stream",
     "text": [
      "    classname            img\n",
      "725        c0  img_10206.jpg\n",
      "726        c0  img_27079.jpg\n",
      "727        c0  img_50749.jpg\n",
      "728        c0  img_97089.jpg\n",
      "729        c0  img_37741.jpg\n"
     ]
    }
   ],
   "source": [
    "print(df[df['subject'].isin(subjects[:3])].ix[:,['classname', 'img']].head())"
   ]
  },
  {
   "cell_type": "code",
   "execution_count": 66,
   "metadata": {
    "collapsed": false
   },
   "outputs": [
    {
     "name": "stdout",
     "output_type": "stream",
     "text": [
      "/home/ubuntu/data/statefarm/train\n"
     ]
    }
   ],
   "source": [
    "%cd train"
   ]
  },
  {
   "cell_type": "code",
   "execution_count": 68,
   "metadata": {
    "collapsed": false
   },
   "outputs": [],
   "source": [
    "%mkdir ../valid"
   ]
  },
  {
   "cell_type": "code",
   "execution_count": 69,
   "metadata": {
    "collapsed": false
   },
   "outputs": [
    {
     "name": "stdout",
     "output_type": "stream",
     "text": [
      "c7\n",
      "c8\n",
      "c6\n",
      "c0\n",
      "c2\n",
      "c4\n",
      "c9\n",
      "c1\n",
      "c3\n",
      "c5\n"
     ]
    }
   ],
   "source": [
    "for d in glob('*'):\n",
    "    print(d)\n",
    "    os.mkdir('../valid/' + d)"
   ]
  },
  {
   "cell_type": "code",
   "execution_count": 84,
   "metadata": {
    "collapsed": false
   },
   "outputs": [
    {
     "name": "stdout",
     "output_type": "stream",
     "text": [
      "2247\n",
      "2247\n",
      "img_27079.jpg\n"
     ]
    }
   ],
   "source": [
    "val_imgs = df[df['subject'].isin(subjects[:3])].ix[:,['img']].values\n",
    "val_cls = df[df['subject'].isin(subjects[:3])].ix[:,['classname']].values\n",
    "print(len(val_imgs))\n",
    "print(len(val_cls))\n",
    "print(val_imgs.item(1))"
   ]
  },
  {
   "cell_type": "code",
   "execution_count": 87,
   "metadata": {
    "collapsed": false
   },
   "outputs": [],
   "source": [
    "for i in range(2247):\n",
    "    #print(val_cls.item(i))\n",
    "    os.rename(val_cls.item(i) + '/' + val_imgs.item(i), '../valid/' + val_cls.item(i) + '/' + val_imgs.item(i))"
   ]
  },
  {
   "cell_type": "markdown",
   "metadata": {},
   "source": [
    "### Create sample"
   ]
  },
  {
   "cell_type": "code",
   "execution_count": 89,
   "metadata": {
    "collapsed": true
   },
   "outputs": [],
   "source": [
    "from shutil import copyfile"
   ]
  },
  {
   "cell_type": "code",
   "execution_count": 90,
   "metadata": {
    "collapsed": true
   },
   "outputs": [],
   "source": [
    "%mkdir ../sample\n",
    "%mkdir ../sample/train\n",
    "%mkdir ../sample/valid"
   ]
  },
  {
   "cell_type": "code",
   "execution_count": 91,
   "metadata": {
    "collapsed": false
   },
   "outputs": [
    {
     "name": "stdout",
     "output_type": "stream",
     "text": [
      "c7\n",
      "c8\n",
      "c6\n",
      "c0\n",
      "c2\n",
      "c4\n",
      "c9\n",
      "c1\n",
      "c3\n",
      "c5\n"
     ]
    }
   ],
   "source": [
    "for d in glob('*'):\n",
    "    print(d)\n",
    "    os.mkdir('../sample/valid/'+d)\n",
    "    os.mkdir('../sample/train/'+d)"
   ]
  },
  {
   "cell_type": "code",
   "execution_count": 98,
   "metadata": {
    "collapsed": false
   },
   "outputs": [
    {
     "name": "stdout",
     "output_type": "stream",
     "text": [
      "/home/ubuntu/data/statefarm/train\n"
     ]
    }
   ],
   "source": [
    "%cd /home/ubuntu/data/statefarm/train\n",
    "g = glob('*/*.jpg')\n",
    "shuf = np.random.permutation(g)\n",
    "for i in range(3000): copyfile(shuf[i], '../sample/train/'+shuf[i])"
   ]
  },
  {
   "cell_type": "code",
   "execution_count": 99,
   "metadata": {
    "collapsed": false
   },
   "outputs": [
    {
     "name": "stdout",
     "output_type": "stream",
     "text": [
      "/home/ubuntu/data/statefarm/valid\n"
     ]
    }
   ],
   "source": [
    "%cd ../valid\n",
    "g = glob('*/*.jpg')\n",
    "shuf = np.random.permutation(g)\n",
    "for i in range(300): copyfile(shuf[i], '../sample/valid/'+shuf[i])"
   ]
  },
  {
   "cell_type": "markdown",
   "metadata": {},
   "source": [
    "### Create batches"
   ]
  },
  {
   "cell_type": "code",
   "execution_count": 100,
   "metadata": {
    "collapsed": false
   },
   "outputs": [
    {
     "name": "stdout",
     "output_type": "stream",
     "text": [
      "/home/ubuntu/nbs/solutions/statefarm\n"
     ]
    }
   ],
   "source": [
    "%cd /home/ubuntu/nbs/solutions/statefarm"
   ]
  },
  {
   "cell_type": "code",
   "execution_count": 101,
   "metadata": {
    "collapsed": false
   },
   "outputs": [
    {
     "name": "stdout",
     "output_type": "stream",
     "text": [
      "Found 3000 images belonging to 10 classes.\n"
     ]
    }
   ],
   "source": [
    "batch_size = 64\n",
    "#path = '/home/ubuntu/data/statefarm/'\n",
    "path = '/home/ubuntu/data/statefarm/sample/'\n",
    "batches = get_batches(path+'train', batch_size=batch_size)"
   ]
  },
  {
   "cell_type": "code",
   "execution_count": 102,
   "metadata": {
    "collapsed": false
   },
   "outputs": [
    {
     "name": "stdout",
     "output_type": "stream",
     "text": [
      "Found 300 images belonging to 10 classes.\n"
     ]
    }
   ],
   "source": [
    "val_batches = get_batches(path+'valid', batch_size=batch_size*2, shuffle=False)"
   ]
  },
  {
   "cell_type": "code",
   "execution_count": 104,
   "metadata": {
    "collapsed": false
   },
   "outputs": [
    {
     "name": "stdout",
     "output_type": "stream",
     "text": [
      "Found 79726 images belonging to 1 classes.\n"
     ]
    }
   ],
   "source": [
    "test_batches = get_batches('/home/ubuntu/data/statefarm/'+'test', batch_size=batch_size*2, shuffle=False)"
   ]
  },
  {
   "cell_type": "markdown",
   "metadata": {},
   "source": [
    "#### new VGG16 has batchnorm layers\n",
    "\n",
    "- use pre-trained VGG weights\n",
    "- precompute the output of the last convolution layer"
   ]
  },
  {
   "cell_type": "code",
   "execution_count": 105,
   "metadata": {
    "collapsed": false
   },
   "outputs": [
    {
     "name": "stdout",
     "output_type": "stream",
     "text": [
      "Downloading data from http://www.platform.ai/models/vgg16_bn.h5\n",
      "553476096/553620808 [============================>.] - ETA: 0s"
     ]
    }
   ],
   "source": [
    "vgg = Vgg16()\n",
    "model = vgg.model\n",
    "last_conv_idx = [i for i,l in enumerate(model.layers) if type(l) is Convolution2D][-1]\n",
    "conv_layers = model.layers[:last_conv_idx+1]"
   ]
  },
  {
   "cell_type": "code",
   "execution_count": 108,
   "metadata": {
    "collapsed": false
   },
   "outputs": [
    {
     "name": "stdout",
     "output_type": "stream",
     "text": [
      "Found 3000 images belonging to 10 classes.\n",
      "Found 300 images belonging to 10 classes.\n",
      "Found 79726 images belonging to 1 classes.\n"
     ]
    }
   ],
   "source": [
    "(val_classes, trn_classes, val_labels, trn_labels, val_filenames, trn_filenames, test_filenames) = get_classes(path)"
   ]
  },
  {
   "cell_type": "code",
   "execution_count": null,
   "metadata": {
    "collapsed": true
   },
   "outputs": [],
   "source": [
    "conv_model = Sequential(conv_layers)\n",
    "conv_feat = conv_model.predict_generator(batches, batches.nb_sample)\n",
    "conv_val_feat = conv_model.predict_generator(val_batches, val_batches.nb_sample)\n",
    "conv_test_feat = conv_model.predict_generator(test_batches, test_batches.nb_sample)"
   ]
  },
  {
   "cell_type": "code",
   "execution_count": null,
   "metadata": {
    "collapsed": true
   },
   "outputs": [],
   "source": []
  }
 ],
 "metadata": {
  "anaconda-cloud": {},
  "kernelspec": {
   "display_name": "Python [default]",
   "language": "python",
   "name": "python2"
  },
  "language_info": {
   "codemirror_mode": {
    "name": "ipython",
    "version": 2
   },
   "file_extension": ".py",
   "mimetype": "text/x-python",
   "name": "python",
   "nbconvert_exporter": "python",
   "pygments_lexer": "ipython2",
   "version": "2.7.12"
  }
 },
 "nbformat": 4,
 "nbformat_minor": 1
}
